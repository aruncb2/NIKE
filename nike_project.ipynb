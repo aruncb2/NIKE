{
 "cells": [
  {
   "cell_type": "code",
   "execution_count": 1,
   "metadata": {},
   "outputs": [],
   "source": [
    "import numpy as np"
   ]
  },
  {
   "cell_type": "code",
   "execution_count": 2,
   "metadata": {},
   "outputs": [],
   "source": [
    "import pandas as pd"
   ]
  },
  {
   "cell_type": "code",
   "execution_count": 3,
   "metadata": {},
   "outputs": [],
   "source": [
    "df=pd.read_csv(r'C:\\Users\\akhil\\OneDrive\\Desktop\\project_nike\\Nike Dataset.csv')"
   ]
  },
  {
   "cell_type": "code",
   "execution_count": 4,
   "metadata": {},
   "outputs": [
    {
     "data": {
      "text/html": [
       "<div>\n",
       "<style scoped>\n",
       "    .dataframe tbody tr th:only-of-type {\n",
       "        vertical-align: middle;\n",
       "    }\n",
       "\n",
       "    .dataframe tbody tr th {\n",
       "        vertical-align: top;\n",
       "    }\n",
       "\n",
       "    .dataframe thead th {\n",
       "        text-align: right;\n",
       "    }\n",
       "</style>\n",
       "<table border=\"1\" class=\"dataframe\">\n",
       "  <thead>\n",
       "    <tr style=\"text-align: right;\">\n",
       "      <th></th>\n",
       "      <th>Invoice Date</th>\n",
       "      <th>Product</th>\n",
       "      <th>Region</th>\n",
       "      <th>Retailer</th>\n",
       "      <th>Sales Method</th>\n",
       "      <th>State</th>\n",
       "      <th>Price per Unit</th>\n",
       "      <th>Total Sales</th>\n",
       "      <th>Units Sold</th>\n",
       "    </tr>\n",
       "  </thead>\n",
       "  <tbody>\n",
       "    <tr>\n",
       "      <th>0</th>\n",
       "      <td>01-01-2020</td>\n",
       "      <td>Men's Street Footwear</td>\n",
       "      <td>Northeast</td>\n",
       "      <td>Foot Locker</td>\n",
       "      <td>In-store</td>\n",
       "      <td>New York</td>\n",
       "      <td>50</td>\n",
       "      <td>6000</td>\n",
       "      <td>120</td>\n",
       "    </tr>\n",
       "    <tr>\n",
       "      <th>1</th>\n",
       "      <td>02-01-2020</td>\n",
       "      <td>Men's Athletic Footwear</td>\n",
       "      <td>Northeast</td>\n",
       "      <td>Foot Locker</td>\n",
       "      <td>In-store</td>\n",
       "      <td>New York</td>\n",
       "      <td>50</td>\n",
       "      <td>5000</td>\n",
       "      <td>100</td>\n",
       "    </tr>\n",
       "    <tr>\n",
       "      <th>2</th>\n",
       "      <td>03-01-2020</td>\n",
       "      <td>Women's Street Footwear</td>\n",
       "      <td>Northeast</td>\n",
       "      <td>Foot Locker</td>\n",
       "      <td>In-store</td>\n",
       "      <td>New York</td>\n",
       "      <td>40</td>\n",
       "      <td>4000</td>\n",
       "      <td>100</td>\n",
       "    </tr>\n",
       "    <tr>\n",
       "      <th>3</th>\n",
       "      <td>04-01-2020</td>\n",
       "      <td>Women's Athletic Footwear</td>\n",
       "      <td>Northeast</td>\n",
       "      <td>Foot Locker</td>\n",
       "      <td>In-store</td>\n",
       "      <td>New York</td>\n",
       "      <td>45</td>\n",
       "      <td>3825</td>\n",
       "      <td>85</td>\n",
       "    </tr>\n",
       "    <tr>\n",
       "      <th>4</th>\n",
       "      <td>05-01-2020</td>\n",
       "      <td>Men's Apparel</td>\n",
       "      <td>Northeast</td>\n",
       "      <td>Foot Locker</td>\n",
       "      <td>In-store</td>\n",
       "      <td>New York</td>\n",
       "      <td>60</td>\n",
       "      <td>5400</td>\n",
       "      <td>90</td>\n",
       "    </tr>\n",
       "    <tr>\n",
       "      <th>...</th>\n",
       "      <td>...</td>\n",
       "      <td>...</td>\n",
       "      <td>...</td>\n",
       "      <td>...</td>\n",
       "      <td>...</td>\n",
       "      <td>...</td>\n",
       "      <td>...</td>\n",
       "      <td>...</td>\n",
       "      <td>...</td>\n",
       "    </tr>\n",
       "    <tr>\n",
       "      <th>9355</th>\n",
       "      <td>06-07-2021</td>\n",
       "      <td>Women's Athletic Footwear</td>\n",
       "      <td>West</td>\n",
       "      <td>West Gear</td>\n",
       "      <td>Outlet</td>\n",
       "      <td>Idaho</td>\n",
       "      <td>38</td>\n",
       "      <td>60</td>\n",
       "      <td>16</td>\n",
       "    </tr>\n",
       "    <tr>\n",
       "      <th>9356</th>\n",
       "      <td>05-04-2021</td>\n",
       "      <td>Women's Street Footwear</td>\n",
       "      <td>West</td>\n",
       "      <td>West Gear</td>\n",
       "      <td>Outlet</td>\n",
       "      <td>Idaho</td>\n",
       "      <td>19</td>\n",
       "      <td>31</td>\n",
       "      <td>16</td>\n",
       "    </tr>\n",
       "    <tr>\n",
       "      <th>9357</th>\n",
       "      <td>05-05-2021</td>\n",
       "      <td>Women's Street Footwear</td>\n",
       "      <td>West</td>\n",
       "      <td>West Gear</td>\n",
       "      <td>Outlet</td>\n",
       "      <td>Idaho</td>\n",
       "      <td>18</td>\n",
       "      <td>33</td>\n",
       "      <td>18</td>\n",
       "    </tr>\n",
       "    <tr>\n",
       "      <th>9358</th>\n",
       "      <td>04-06-2021</td>\n",
       "      <td>Women's Street Footwear</td>\n",
       "      <td>West</td>\n",
       "      <td>West Gear</td>\n",
       "      <td>Outlet</td>\n",
       "      <td>Idaho</td>\n",
       "      <td>34</td>\n",
       "      <td>63</td>\n",
       "      <td>19</td>\n",
       "    </tr>\n",
       "    <tr>\n",
       "      <th>9359</th>\n",
       "      <td>06-07-2021</td>\n",
       "      <td>Women's Street Footwear</td>\n",
       "      <td>West</td>\n",
       "      <td>West Gear</td>\n",
       "      <td>Outlet</td>\n",
       "      <td>Idaho</td>\n",
       "      <td>34</td>\n",
       "      <td>95</td>\n",
       "      <td>28</td>\n",
       "    </tr>\n",
       "  </tbody>\n",
       "</table>\n",
       "<p>9360 rows × 9 columns</p>\n",
       "</div>"
      ],
      "text/plain": [
       "     Invoice Date                    Product     Region     Retailer  \\\n",
       "0      01-01-2020      Men's Street Footwear  Northeast  Foot Locker   \n",
       "1      02-01-2020    Men's Athletic Footwear  Northeast  Foot Locker   \n",
       "2      03-01-2020    Women's Street Footwear  Northeast  Foot Locker   \n",
       "3      04-01-2020  Women's Athletic Footwear  Northeast  Foot Locker   \n",
       "4      05-01-2020              Men's Apparel  Northeast  Foot Locker   \n",
       "...           ...                        ...        ...          ...   \n",
       "9355   06-07-2021  Women's Athletic Footwear       West    West Gear   \n",
       "9356   05-04-2021    Women's Street Footwear       West    West Gear   \n",
       "9357   05-05-2021    Women's Street Footwear       West    West Gear   \n",
       "9358   04-06-2021    Women's Street Footwear       West    West Gear   \n",
       "9359   06-07-2021    Women's Street Footwear       West    West Gear   \n",
       "\n",
       "     Sales Method     State  Price per Unit  Total Sales  Units Sold  \n",
       "0        In-store  New York              50         6000         120  \n",
       "1        In-store  New York              50         5000         100  \n",
       "2        In-store  New York              40         4000         100  \n",
       "3        In-store  New York              45         3825          85  \n",
       "4        In-store  New York              60         5400          90  \n",
       "...           ...       ...             ...          ...         ...  \n",
       "9355       Outlet     Idaho              38           60          16  \n",
       "9356       Outlet     Idaho              19           31          16  \n",
       "9357       Outlet     Idaho              18           33          18  \n",
       "9358       Outlet     Idaho              34           63          19  \n",
       "9359       Outlet     Idaho              34           95          28  \n",
       "\n",
       "[9360 rows x 9 columns]"
      ]
     },
     "execution_count": 4,
     "metadata": {},
     "output_type": "execute_result"
    }
   ],
   "source": [
    "df"
   ]
  },
  {
   "cell_type": "code",
   "execution_count": 12,
   "metadata": {},
   "outputs": [
    {
     "data": {
      "text/plain": [
       "Invoice Date      object\n",
       "Product           object\n",
       "Region            object\n",
       "Retailer          object\n",
       "Sales Method      object\n",
       "State             object\n",
       "Price per Unit     int64\n",
       "Total Sales        int64\n",
       "Units Sold         int64\n",
       "dtype: object"
      ]
     },
     "execution_count": 12,
     "metadata": {},
     "output_type": "execute_result"
    }
   ],
   "source": [
    "df.head()\n",
    "df.tail()\n",
    "df.shape\n",
    "df.dtypes"
   ]
  },
  {
   "cell_type": "code",
   "execution_count": 14,
   "metadata": {},
   "outputs": [
    {
     "data": {
      "text/plain": [
       "Invoice Date      0\n",
       "Product           0\n",
       "Region            0\n",
       "Retailer          0\n",
       "Sales Method      0\n",
       "State             0\n",
       "Price per Unit    0\n",
       "Total Sales       0\n",
       "Units Sold        0\n",
       "dtype: int64"
      ]
     },
     "execution_count": 14,
     "metadata": {},
     "output_type": "execute_result"
    }
   ],
   "source": [
    "df.isna().sum()"
   ]
  },
  {
   "cell_type": "code",
   "execution_count": 13,
   "metadata": {},
   "outputs": [
    {
     "data": {
      "text/plain": [
       "0"
      ]
     },
     "execution_count": 13,
     "metadata": {},
     "output_type": "execute_result"
    }
   ],
   "source": [
    "df.duplicated().sum()"
   ]
  },
  {
   "cell_type": "code",
   "execution_count": null,
   "metadata": {},
   "outputs": [],
   "source": [
    "dic1={}\n",
    "for i in df:\n",
    "    print(i)\n",
    "    if df[i].dtype=='int64':\n",
    "        print(i)\n",
    "        q1=df[i].quantile(0.25)\n",
    "        q3=df[i].quantile(0.75)\n",
    "        "
   ]
  }
 ],
 "metadata": {
  "kernelspec": {
   "display_name": "Python 3",
   "language": "python",
   "name": "python3"
  },
  "language_info": {
   "codemirror_mode": {
    "name": "ipython",
    "version": 3
   },
   "file_extension": ".py",
   "mimetype": "text/x-python",
   "name": "python",
   "nbconvert_exporter": "python",
   "pygments_lexer": "ipython3",
   "version": "3.11.5"
  }
 },
 "nbformat": 4,
 "nbformat_minor": 2
}
